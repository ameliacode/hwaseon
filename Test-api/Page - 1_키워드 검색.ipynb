{
 "cells": [
  {
   "cell_type": "markdown",
   "id": "chief-latvia",
   "metadata": {},
   "source": [
    "### 키워드 검색량 도구 API test"
   ]
  },
  {
   "cell_type": "code",
   "execution_count": 10,
   "id": "upset-repeat",
   "metadata": {},
   "outputs": [],
   "source": [
    "import random\n",
    "import requests\n",
    "import json\n",
    "import signaturehelper"
   ]
  },
  {
   "cell_type": "code",
   "execution_count": 12,
   "id": "romantic-england",
   "metadata": {},
   "outputs": [],
   "source": [
    "config_secret_debug = json.loads(open(\".config_secret/settings_debug.json\").read())\n",
    "customer_id = config_secret_debug[\"NAVER_SEARCH\"][\"CUSTOMER_ID\"]\n",
    "client_id = config_secret_debug[\"NAVER_SEARCH\"][\"CLIENT_ID\"]\n",
    "client_secret = config_secret_debug[\"NAVER_SEARCH\"][\"CLIENT_SECRET\"]"
   ]
  },
  {
   "cell_type": "code",
   "execution_count": 13,
   "id": "pharmaceutical-malpractice",
   "metadata": {},
   "outputs": [],
   "source": [
    "def get_header(method, uri, api_key, secret_key, customer_id):\n",
    "    timestamp = str(round(time.time() * 1000))\n",
    "    signature = signaturehelper.Signature.generate(timestamp, method, uri, SECRET_KEY)\n",
    "    \n",
    "    return {'Content-Type': 'application/json; charset=UTF-8', \n",
    "            'X-Timestamp': timestamp, \n",
    "            'X-API-KEY': API_KEY, \n",
    "            'X-Customer': str(CUSTOMER_ID),\n",
    "            'X-Signature': signature}"
   ]
  },
  {
   "cell_type": "code",
   "execution_count": 14,
   "id": "loving-vulnerability",
   "metadata": {},
   "outputs": [],
   "source": [
    "BASE_URL = 'https://api.naver.com'\n",
    "API_KEY = client_id\n",
    "SECRET_KEY = client_secret\n",
    "CUSTOMER_ID = customer_id"
   ]
  },
  {
   "cell_type": "code",
   "execution_count": 62,
   "id": "peripheral-germany",
   "metadata": {},
   "outputs": [],
   "source": [
    "from datetime import datetime\n",
    "\n",
    "now = datetime.now()\n",
    "current_month = int(now.month)"
   ]
  },
  {
   "cell_type": "code",
   "execution_count": 73,
   "id": "excessive-gather",
   "metadata": {},
   "outputs": [
    {
     "name": "stdout",
     "output_type": "stream",
     "text": [
      "키워드 입력: 폼클렌징\n"
     ]
    }
   ],
   "source": [
    "uri = '/keywordstool'\n",
    "method = 'GET'\n",
    "keyword = input(\"키워드 입력: \")\n",
    "current_r = requests.get(BASE_URL + uri+'?hintKeywords={}&showDetail=1'.format(keyword),\n",
    "                 headers=get_header(method, uri, API_KEY, SECRET_KEY, CUSTOMER_ID))\n",
    "past_r =  requests.get(BASE_URL + uri+'?hintKeywords={}&showDetail=1'.format(keyword),\n",
    "                 params={\"month\":11 },\n",
    "                 headers=get_header(method, uri, API_KEY, SECRET_KEY, CUSTOMER_ID))"
   ]
  },
  {
   "cell_type": "code",
   "execution_count": 74,
   "id": "liquid-messenger",
   "metadata": {
    "scrolled": true
   },
   "outputs": [
    {
     "data": {
      "text/plain": [
       "{'relKeyword': '폼클렌징',\n",
       " 'monthlyPcQcCnt': 5940,\n",
       " 'monthlyMobileQcCnt': 41600,\n",
       " 'monthlyAvePcClkCnt': 13.2,\n",
       " 'monthlyAveMobileClkCnt': 204.8,\n",
       " 'monthlyAvePcCtr': 0.24,\n",
       " 'monthlyAveMobileCtr': 0.53,\n",
       " 'plAvgDepth': 15,\n",
       " 'compIdx': '높음'}"
      ]
     },
     "execution_count": 74,
     "metadata": {},
     "output_type": "execute_result"
    }
   ],
   "source": [
    "current_result = current_r.json()[\"keywordList\"][0]\n",
    "current_result"
   ]
  },
  {
   "cell_type": "markdown",
   "id": "verified-damages",
   "metadata": {},
   "source": [
    "#### 최근 30일간 검색량"
   ]
  },
  {
   "cell_type": "code",
   "execution_count": 75,
   "id": "veterinary-wales",
   "metadata": {},
   "outputs": [],
   "source": [
    "import pandas as pd"
   ]
  },
  {
   "cell_type": "code",
   "execution_count": 76,
   "id": "collectible-magazine",
   "metadata": {},
   "outputs": [
    {
     "data": {
      "text/plain": [
       "47540"
      ]
     },
     "execution_count": 76,
     "metadata": {},
     "output_type": "execute_result"
    }
   ],
   "source": [
    "past_result = past_r.json()[\"keywordList\"][0]\n",
    "past_total = past_result[\"monthlyPcQcCnt\"] + past_result[\"monthlyMobileQcCnt\"]\n",
    "past_total"
   ]
  },
  {
   "cell_type": "code",
   "execution_count": 68,
   "id": "hindu-hunger",
   "metadata": {},
   "outputs": [],
   "source": [
    "df = pd.DataFrame(result, index = [\"values\"])\n",
    "df.drop([\"compIdx\",\n",
    "         \"plAvgDepth\",\n",
    "         \"monthlyAveMobileCtr\",\n",
    "         \"monthlyAvePcCtr\",\n",
    "         \"monthlyAveMobileClkCnt\",\n",
    "         \"monthlyAvePcClkCnt\"], axis = 1 ,inplace = True)\n",
    "df.rename(columns={\"relKeyword\":\"검색어\",\"monthlyPcQcCnt\":\"PC\", \"monthlyMobileQcCnt\":\"Mobile\"}, inplace = True)\n",
    "df[\"Total\"] = result[\"monthlyPcQcCnt\"] + result[\"monthlyMobileQcCnt\"]\n",
    "df[\"전월 대비\"] = int(df[\"Total\"] / past_total * 100)"
   ]
  },
  {
   "cell_type": "code",
   "execution_count": 69,
   "id": "vietnamese-reproduction",
   "metadata": {},
   "outputs": [
    {
     "data": {
      "text/html": [
       "<div>\n",
       "<style scoped>\n",
       "    .dataframe tbody tr th:only-of-type {\n",
       "        vertical-align: middle;\n",
       "    }\n",
       "\n",
       "    .dataframe tbody tr th {\n",
       "        vertical-align: top;\n",
       "    }\n",
       "\n",
       "    .dataframe thead th {\n",
       "        text-align: right;\n",
       "    }\n",
       "</style>\n",
       "<table border=\"1\" class=\"dataframe\">\n",
       "  <thead>\n",
       "    <tr style=\"text-align: right;\">\n",
       "      <th></th>\n",
       "      <th>검색어</th>\n",
       "      <th>PC</th>\n",
       "      <th>Mobile</th>\n",
       "      <th>Total</th>\n",
       "      <th>전월 대비</th>\n",
       "    </tr>\n",
       "  </thead>\n",
       "  <tbody>\n",
       "    <tr>\n",
       "      <th>values</th>\n",
       "      <td>폼클렌징</td>\n",
       "      <td>5940</td>\n",
       "      <td>41600</td>\n",
       "      <td>47540</td>\n",
       "      <td>100</td>\n",
       "    </tr>\n",
       "  </tbody>\n",
       "</table>\n",
       "</div>"
      ],
      "text/plain": [
       "         검색어    PC  Mobile  Total  전월 대비\n",
       "values  폼클렌징  5940   41600  47540    100"
      ]
     },
     "metadata": {},
     "output_type": "display_data"
    }
   ],
   "source": [
    "display(df) #전월 대비 pass"
   ]
  },
  {
   "cell_type": "markdown",
   "id": "conceptual-manitoba",
   "metadata": {},
   "source": [
    "#### 최근 컨텐츠 발행량"
   ]
  },
  {
   "cell_type": "code",
   "execution_count": null,
   "id": "dimensional-hazard",
   "metadata": {},
   "outputs": [],
   "source": []
  },
  {
   "cell_type": "code",
   "execution_count": null,
   "id": "hindu-smith",
   "metadata": {},
   "outputs": [],
   "source": []
  },
  {
   "cell_type": "code",
   "execution_count": null,
   "id": "transsexual-america",
   "metadata": {},
   "outputs": [],
   "source": []
  },
  {
   "cell_type": "code",
   "execution_count": 1,
   "id": "guilty-utilization",
   "metadata": {},
   "outputs": [],
   "source": [
    "#https://pinkwink.kr/1215\n",
    "#https://developers.naver.com/docs/datalab/search/\n",
    "#https://github.com/naver/searchad-apidoc/issues/318"
   ]
  },
  {
   "cell_type": "markdown",
   "id": "grateful-negative",
   "metadata": {},
   "source": [
    "### Graph"
   ]
  },
  {
   "cell_type": "code",
   "execution_count": null,
   "id": "configured-southwest",
   "metadata": {},
   "outputs": [],
   "source": [
    "config_secret_debug = json.loads(open(\".config_secret/settings_debug.json\").read())\n",
    "customer_id = config_secret_debug[\"NAVER\"][\"CUSTOMER_ID\"]\n",
    "client_id = config_secret_debug[\"NAVER\"][\"CLIENT_ID\"]"
   ]
  },
  {
   "cell_type": "code",
   "execution_count": null,
   "id": "legitimate-doubt",
   "metadata": {},
   "outputs": [],
   "source": [
    "url = \"https://openapi.naver.com/v1/datalab/search\""
   ]
  },
  {
   "cell_type": "code",
   "execution_count": null,
   "id": "brave-angola",
   "metadata": {},
   "outputs": [],
   "source": [
    "uri = '/keywordstool'\n",
    "method = 'GET'\n",
    "keyword = input(\"키워드 입력: \")\n",
    "current_r = requests.get(BASE_URL + uri+'?hintKeywords={}&showDetail=1'.format(keyword),\n",
    "                 headers=get_header(method, uri, API_KEY, SECRET_KEY, CUSTOMER_ID))"
   ]
  }
 ],
 "metadata": {
  "kernelspec": {
   "display_name": "Python 3",
   "language": "python",
   "name": "python3"
  },
  "language_info": {
   "codemirror_mode": {
    "name": "ipython",
    "version": 3
   },
   "file_extension": ".py",
   "mimetype": "text/x-python",
   "name": "python",
   "nbconvert_exporter": "python",
   "pygments_lexer": "ipython3",
   "version": "3.7.9"
  }
 },
 "nbformat": 4,
 "nbformat_minor": 5
}
