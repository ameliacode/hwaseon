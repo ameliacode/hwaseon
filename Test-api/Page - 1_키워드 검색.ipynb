{
 "cells": [
  {
   "cell_type": "markdown",
   "metadata": {},
   "source": [
    "### 키워드 검색량 도구 API test"
   ]
  },
  {
   "cell_type": "code",
   "execution_count": 25,
   "metadata": {},
   "outputs": [],
   "source": [
    "import random\n",
    "import time\n",
    "import requests\n",
    "import json\n",
    "import signaturehelper"
   ]
  },
  {
   "cell_type": "code",
   "execution_count": 26,
   "metadata": {},
   "outputs": [],
   "source": [
    "config_secret_debug = json.loads(open(\".config_secret/settings_debug.json\").read())\n",
    "customer_id = config_secret_debug[\"NAVER_SEARCH\"][\"CUSTOMER_ID\"]\n",
    "client_id = config_secret_debug[\"NAVER_SEARCH\"][\"CLIENT_ID\"]\n",
    "client_secret = config_secret_debug[\"NAVER_SEARCH\"][\"CLIENT_SECRET\"]"
   ]
  },
  {
   "cell_type": "code",
   "execution_count": 27,
   "metadata": {},
   "outputs": [
    {
     "name": "stdout",
     "output_type": "stream",
     "text": [
      "키워드 입력: 폼클렌징\n",
      "시작날짜 입력: 2020-02-08\n",
      "종료날짜 입력:2020-03-08\n"
     ]
    }
   ],
   "source": [
    "## 입력\n",
    "\n",
    "keyword = input(\"키워드 입력: \")\n",
    "start_date = input(\"시작날짜 입력: \")\n",
    "end_date = input(\"종료날짜 입력:\")\n",
    "time_unit = \"month\"\n",
    "keyword_groups = keyword"
   ]
  },
  {
   "cell_type": "code",
   "execution_count": 28,
   "metadata": {},
   "outputs": [],
   "source": [
    "def get_search_header(method, uri, api_key, secret_key, customer_id):\n",
    "    timestamp = str(round(time.time() * 1000))\n",
    "    signature = signaturehelper.Signature.generate(timestamp, method, uri, SECRET_KEY)\n",
    "    \n",
    "    return {'Content-Type': 'application/json; charset=UTF-8', \n",
    "            'X-Timestamp': timestamp, \n",
    "            'X-API-KEY': API_KEY, \n",
    "            'X-Customer': str(CUSTOMER_ID),\n",
    "            'X-Signature': signature}"
   ]
  },
  {
   "cell_type": "code",
   "execution_count": 29,
   "metadata": {},
   "outputs": [],
   "source": [
    "def get_datalab_header(api_key, secret_key):\n",
    "    return {\n",
    "        \"Content-Type\":\"application/json\",\n",
    "        \"X-Naver-Client-Id\": api_key,\n",
    "        \"X-Naver-Client-Secret\":secret_key        \n",
    "    }"
   ]
  },
  {
   "cell_type": "code",
   "execution_count": 30,
   "metadata": {},
   "outputs": [],
   "source": [
    "BASE_URL = 'https://api.naver.com'\n",
    "API_KEY = client_id\n",
    "SECRET_KEY = client_secret\n",
    "CUSTOMER_ID = customer_id"
   ]
  },
  {
   "cell_type": "code",
   "execution_count": 31,
   "metadata": {},
   "outputs": [],
   "source": [
    "uri = '/keywordstool'\n",
    "method = 'GET'\n",
    "search_r = requests.get(BASE_URL + uri+'?hintKeywords={}&showDetail=1'.format(keyword),\n",
    "                 headers=get_search_header(method, uri, API_KEY, SECRET_KEY, CUSTOMER_ID))"
   ]
  },
  {
   "cell_type": "code",
   "execution_count": 32,
   "metadata": {
    "scrolled": true
   },
   "outputs": [
    {
     "data": {
      "text/plain": [
       "{'relKeyword': '폼클렌징',\n",
       " 'monthlyPcQcCnt': 5940,\n",
       " 'monthlyMobileQcCnt': 41600,\n",
       " 'monthlyAvePcClkCnt': 13.2,\n",
       " 'monthlyAveMobileClkCnt': 204.8,\n",
       " 'monthlyAvePcCtr': 0.24,\n",
       " 'monthlyAveMobileCtr': 0.53,\n",
       " 'plAvgDepth': 15,\n",
       " 'compIdx': '높음'}"
      ]
     },
     "execution_count": 32,
     "metadata": {},
     "output_type": "execute_result"
    }
   ],
   "source": [
    "search_result = search_r.json()[\"keywordList\"][0]\n",
    "search_result"
   ]
  },
  {
   "cell_type": "code",
   "execution_count": 33,
   "metadata": {},
   "outputs": [],
   "source": [
    "import os\n",
    "import sys\n",
    "import urllib.request"
   ]
  },
  {
   "cell_type": "code",
   "execution_count": 46,
   "metadata": {},
   "outputs": [],
   "source": [
    "client_id =  config_secret_debug[\"NAVER\"][\"CLIENT_ID\"]\n",
    "client_secret = config_secret_debug[\"NAVER\"][\"CLIENT_SECRET\"]\n",
    "url = \"https://openapi.naver.com/v1/datalab/search\"\n",
    "body = { \"startDate\":start_date,\n",
    "         \"endDate\":end_date,\n",
    "         \"timeUnit\":time_unit,\n",
    "         \"keywordGroups\" : [{\"groupName\": keyword, \"keywords\" : [keyword]}]\n",
    "       }"
   ]
  },
  {
   "cell_type": "code",
   "execution_count": 47,
   "metadata": {},
   "outputs": [
    {
     "name": "stdout",
     "output_type": "stream",
     "text": [
      "b'{\"startDate\":\"2020-02-01\",\"endDate\":\"2020-03-31\",\"timeUnit\":\"month\",\"results\":[{\"title\":\"\\xed\\x8f\\xbc\\xed\\x81\\xb4\\xeb\\xa0\\x8c\\xec\\xa7\\x95\",\"keywords\":[\"\\xed\\x8f\\xbc\\xed\\x81\\xb4\\xeb\\xa0\\x8c\\xec\\xa7\\x95\"],\"data\":[{\"period\":\"2020-02-01\",\"ratio\":82.16241},{\"period\":\"2020-03-01\",\"ratio\":100}]}]}'\n"
     ]
    }
   ],
   "source": [
    "datalab_r = requests.post(url,data = json.dumps(body),\n",
    "                 headers=get_datalab_header(client_id, client_secret))\n",
    "print(datalab_r.content)"
   ]
  },
  {
   "cell_type": "code",
   "execution_count": 48,
   "metadata": {},
   "outputs": [
    {
     "data": {
      "text/plain": [
       "{'startDate': '2020-02-01',\n",
       " 'endDate': '2020-03-31',\n",
       " 'timeUnit': 'month',\n",
       " 'results': [{'title': '폼클렌징',\n",
       "   'keywords': ['폼클렌징'],\n",
       "   'data': [{'period': '2020-02-01', 'ratio': 82.16241},\n",
       "    {'period': '2020-03-01', 'ratio': 100}]}]}"
      ]
     },
     "execution_count": 48,
     "metadata": {},
     "output_type": "execute_result"
    }
   ],
   "source": [
    "json.loads(datalab_r.content)"
   ]
  },
  {
   "cell_type": "markdown",
   "metadata": {},
   "source": [
    "#### 최근 30일간 검색량"
   ]
  },
  {
   "cell_type": "code",
   "execution_count": 14,
   "metadata": {},
   "outputs": [],
   "source": [
    "import pandas as pd"
   ]
  },
  {
   "cell_type": "code",
   "execution_count": 15,
   "metadata": {},
   "outputs": [
    {
     "data": {
      "text/plain": [
       "47540"
      ]
     },
     "execution_count": 15,
     "metadata": {},
     "output_type": "execute_result"
    }
   ],
   "source": []
  },
  {
   "cell_type": "code",
   "execution_count": 20,
   "metadata": {},
   "outputs": [],
   "source": [
    "df = pd.DataFrame(current_result, index = [\"values\"])\n",
    "df.drop([\"compIdx\",\n",
    "         \"plAvgDepth\",\n",
    "         \"monthlyAveMobileCtr\",\n",
    "         \"monthlyAvePcCtr\",\n",
    "         \"monthlyAveMobileClkCnt\",\n",
    "         \"monthlyAvePcClkCnt\"], axis = 1 ,inplace = True)\n",
    "df.rename(columns={\"relKeyword\":\"검색어\",\"monthlyPcQcCnt\":\"PC\", \"monthlyMobileQcCnt\":\"Mobile\"}, inplace = True)\n",
    "df[\"Total\"] = current_result[\"monthlyPcQcCnt\"] + current_result[\"monthlyMobileQcCnt\"]\n",
    "df[\"전월 대비\"] = "
   ]
  },
  {
   "cell_type": "code",
   "execution_count": 21,
   "metadata": {},
   "outputs": [
    {
     "data": {
      "text/html": [
       "<div>\n",
       "<style scoped>\n",
       "    .dataframe tbody tr th:only-of-type {\n",
       "        vertical-align: middle;\n",
       "    }\n",
       "\n",
       "    .dataframe tbody tr th {\n",
       "        vertical-align: top;\n",
       "    }\n",
       "\n",
       "    .dataframe thead th {\n",
       "        text-align: right;\n",
       "    }\n",
       "</style>\n",
       "<table border=\"1\" class=\"dataframe\">\n",
       "  <thead>\n",
       "    <tr style=\"text-align: right;\">\n",
       "      <th></th>\n",
       "      <th>검색어</th>\n",
       "      <th>PC</th>\n",
       "      <th>Mobile</th>\n",
       "      <th>Total</th>\n",
       "      <th>전월 대비</th>\n",
       "    </tr>\n",
       "  </thead>\n",
       "  <tbody>\n",
       "    <tr>\n",
       "      <th>values</th>\n",
       "      <td>폼클렌징</td>\n",
       "      <td>5940</td>\n",
       "      <td>41600</td>\n",
       "      <td>47540</td>\n",
       "      <td>100</td>\n",
       "    </tr>\n",
       "  </tbody>\n",
       "</table>\n",
       "</div>"
      ],
      "text/plain": [
       "         검색어    PC  Mobile  Total  전월 대비\n",
       "values  폼클렌징  5940   41600  47540    100"
      ]
     },
     "metadata": {},
     "output_type": "display_data"
    }
   ],
   "source": [
    "display(df) #전월 대비 pass"
   ]
  },
  {
   "cell_type": "markdown",
   "metadata": {},
   "source": [
    "#### 최근 컨텐츠 발행량"
   ]
  },
  {
   "cell_type": "code",
   "execution_count": null,
   "metadata": {},
   "outputs": [],
   "source": []
  },
  {
   "cell_type": "code",
   "execution_count": null,
   "metadata": {},
   "outputs": [],
   "source": []
  },
  {
   "cell_type": "code",
   "execution_count": null,
   "metadata": {},
   "outputs": [],
   "source": []
  },
  {
   "cell_type": "code",
   "execution_count": 1,
   "metadata": {},
   "outputs": [],
   "source": [
    "#https://pinkwink.kr/1215\n",
    "#https://developers.naver.com/docs/datalab/search/\n",
    "#https://github.com/naver/searchad-apidoc/issues/318"
   ]
  },
  {
   "cell_type": "markdown",
   "metadata": {},
   "source": [
    "### Graph"
   ]
  },
  {
   "cell_type": "code",
   "execution_count": null,
   "metadata": {},
   "outputs": [],
   "source": [
    "config_secret_debug = json.loads(open(\".config_secret/settings_debug.json\").read())\n",
    "customer_id = config_secret_debug[\"NAVER\"][\"CUSTOMER_ID\"]\n",
    "client_id = config_secret_debug[\"NAVER\"][\"CLIENT_ID\"]"
   ]
  },
  {
   "cell_type": "code",
   "execution_count": null,
   "metadata": {},
   "outputs": [],
   "source": [
    "url = \"https://openapi.naver.com/v1/datalab/search\""
   ]
  },
  {
   "cell_type": "code",
   "execution_count": null,
   "metadata": {},
   "outputs": [],
   "source": [
    "uri = '/keywordstool'\n",
    "method = 'GET'\n",
    "keyword = input(\"키워드 입력: \")\n",
    "current_r = requests.get(BASE_URL + uri+'?hintKeywords={}&showDetail=1'.format(keyword),\n",
    "                 headers=get_header(method, uri, API_KEY, SECRET_KEY, CUSTOMER_ID))"
   ]
  }
 ],
 "metadata": {
  "kernelspec": {
   "display_name": "Python 3",
   "language": "python",
   "name": "python3"
  },
  "language_info": {
   "codemirror_mode": {
    "name": "ipython",
    "version": 3
   },
   "file_extension": ".py",
   "mimetype": "text/x-python",
   "name": "python",
   "nbconvert_exporter": "python",
   "pygments_lexer": "ipython3",
   "version": "3.8.3"
  }
 },
 "nbformat": 4,
 "nbformat_minor": 5
}
