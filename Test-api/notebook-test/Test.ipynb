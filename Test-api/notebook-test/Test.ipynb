{
 "cells": [
  {
   "cell_type": "code",
   "execution_count": 94,
   "metadata": {},
   "outputs": [],
   "source": [
    "import random\n",
    "import time\n",
    "import urllib\n",
    "from datetime import datetime \n",
    "from datetime import timedelta\n",
    "from dateutil.relativedelta import relativedelta\n",
    "import json\n",
    "import requests"
   ]
  },
  {
   "cell_type": "code",
   "execution_count": 95,
   "metadata": {},
   "outputs": [],
   "source": [
    "def get_naver_header(api_key, secret_key):\n",
    "    return {\n",
    "        \"X-Naver-Client-Id\": api_key,\n",
    "        \"X-Naver-Client-Secret\":secret_key        \n",
    "    }"
   ]
  },
  {
   "cell_type": "code",
   "execution_count": 103,
   "metadata": {},
   "outputs": [],
   "source": [
    "config_secret_debug = json.loads(open(\".config_secret/settings_debug.json\").read())\n",
    "client_id =  config_secret_debug[\"NAVER\"][\"CLIENT_ID\"]\n",
    "client_secret = config_secret_debug[\"NAVER\"][\"CLIENT_SECRET\"]\n",
    "url = \"https://openapi.naver.com/v1/search/shop\""
   ]
  },
  {
   "cell_type": "code",
   "execution_count": 97,
   "metadata": {},
   "outputs": [
    {
     "name": "stdout",
     "output_type": "stream",
     "text": [
      "2016-01-01 2021-02-11\n"
     ]
    }
   ],
   "source": [
    "#keyword = input(\"키워드 입력: \")\n",
    "keyword = \"폼클렌징\"\n",
    "encText = urllib.parse.quote(keyword)\n",
    "start_date = \"2016-01-01\"\n",
    "end_date = str(datetime.now()-timedelta(days=1))[:10]\n",
    "time_unit = \"date\"\n",
    "keyword_groups = keyword\n",
    "print(start_date, end_date)"
   ]
  },
  {
   "cell_type": "code",
   "execution_count": 108,
   "metadata": {},
   "outputs": [],
   "source": [
    "url = \"https://openapi.naver.com/v1/search/shop?query=\" + encText + \"?display=100\" \n",
    "shopping_r = requests.get(url,\n",
    "                        headers=get_naver_header(client_id, client_secret))"
   ]
  },
  {
   "cell_type": "code",
   "execution_count": 134,
   "metadata": {},
   "outputs": [
    {
     "name": "stdout",
     "output_type": "stream",
     "text": [
      "{\n",
      "\"lastBuildDate\": \"Fri, 12 Feb 2021 21:47:55 +0900\",\n",
      "\"total\": 470198,\n",
      "\"start\": 1,\n",
      "\"display\": 10,\n",
      "\"items\": [\n",
      "{\n",
      "\"title\": \"닥터지 약산성 레드 블레미쉬 클리어 수딩 <b>폼</b> 150ml\",\n",
      "\"link\": \"https://search.shopping.naver.com/gate.nhn?id=22267938560\",\n",
      "\"image\": \"https://shopping-phinf.pstatic.net/main_2226793/22267938560.20200625091710.jpg\",\n",
      "\"lprice\": \"6870\",\n",
      "\"hprice\": \"31000\",\n",
      "\"mallName\": \"네이버\",\n",
      "\"productId\": \"22267938560\",\n",
      "\"productType\": \"1\",\n",
      "\"brand\": \"닥터지\",\n",
      "\"maker\": \"코스맥스\",\n",
      "\"category1\": \"화장품/미용\",\n",
      "\"category2\": \"클렌징\",\n",
      "\"category3\": \"클렌징폼\",\n",
      "\"category4\": \"\"\n",
      "\n",
      "},\n",
      "{\n",
      "\"title\": \"반코르 아크네 바하 <b>폼</b> 클렌저 120ml\",\n",
      "\"link\": \"https://search.shopping.naver.com/gate.nhn?id=24522909522\",\n",
      "\"image\": \"https://shopping-phinf.pstatic.net/main_2452290/24522909522.20201020101722.jpg\",\n",
      "\"lprice\": \"13000\",\n",
      "\"hprice\": \"28900\",\n",
      "\"mallName\": \"네이버\",\n",
      "\"productId\": \"24522909522\",\n",
      "\"productType\": \"1\",\n",
      "\"brand\": \"반코르\",\n",
      "\"maker\": \"네이처텍\",\n",
      "\"category1\": \"화장품/미용\",\n",
      "\"category2\": \"클렌징\",\n",
      "\"category3\": \"클렌징폼\",\n",
      "\"category4\": \"\"\n",
      "\n",
      "},\n",
      "{\n",
      "\"title\": \"안나플러스 천연 약산성 4GF 딥 <b>폼 클렌징</b> 150ml\",\n",
      "\"link\": \"https://search.shopping.naver.com/gate.nhn?id=14837901101\",\n",
      "\"image\": \"https://shopping-phinf.pstatic.net/main_1483790/14837901101.20201210200719.jpg\",\n",
      "\"lprice\": \"14300\",\n",
      "\"hprice\": \"59700\",\n",
      "\"mallName\": \"네이버\",\n",
      "\"productId\": \"14837901101\",\n",
      "\"productType\": \"1\",\n",
      "\"brand\": \"안나플러스\",\n",
      "\"maker\": \"\",\n",
      "\"category1\": \"화장품/미용\",\n",
      "\"category2\": \"클렌징\",\n",
      "\"category3\": \"클렌징폼\",\n",
      "\"category4\": \"\"\n",
      "\n",
      "},\n",
      "{\n",
      "\"title\": \"라세아 딥 <b>클렌징</b> 비타 약산성 <b>폼클렌징</b> 150ml\",\n",
      "\"link\": \"https://search.shopping.naver.com/gate.nhn?id=12793941357\",\n",
      "\"image\": \"https://shopping-phinf.pstatic.net/main_1279394/12793941357.20190227154911.jpg\",\n",
      "\"lprice\": \"3500\",\n",
      "\"hprice\": \"12000\",\n",
      "\"mallName\": \"네이버\",\n",
      "\"productId\": \"12793941357\",\n",
      "\"productType\": \"1\",\n",
      "\"brand\": \"라세아\",\n",
      "\"maker\": \"\",\n",
      "\"category1\": \"화장품/미용\",\n",
      "\"category2\": \"클렌징\",\n",
      "\"category3\": \"클렌징폼\",\n",
      "\"category4\": \"\"\n",
      "\n",
      "},\n",
      "{\n",
      "\"title\": \"콰티 뮬 <b>클렌징</b>폼 150g\",\n",
      "\"link\": \"https://search.shopping.naver.com/gate.nhn?id=25621549522\",\n",
      "\"image\": \"https://shopping-phinf.pstatic.net/main_2562154/25621549522.20210115173628.jpg\",\n",
      "\"lprice\": \"18000\",\n",
      "\"hprice\": \"130000\",\n",
      "\"mallName\": \"네이버\",\n",
      "\"productId\": \"25621549522\",\n",
      "\"productType\": \"1\",\n",
      "\"brand\": \"\",\n",
      "\"maker\": \"\",\n",
      "\"category1\": \"화장품/미용\",\n",
      "\"category2\": \"클렌징\",\n",
      "\"category3\": \"클렌징폼\",\n",
      "\"category4\": \"\"\n",
      "\n",
      "},\n",
      "{\n",
      "\"title\": \"청미정 알로에 발효 <b>클렌징</b> <b>폼</b> 200ml\",\n",
      "\"link\": \"https://search.shopping.naver.com/gate.nhn?id=12795135433\",\n",
      "\"image\": \"https://shopping-phinf.pstatic.net/main_1279513/12795135433.20171123170845.jpg\",\n",
      "\"lprice\": \"23000\",\n",
      "\"hprice\": \"23000\",\n",
      "\"mallName\": \"네이버\",\n",
      "\"productId\": \"12795135433\",\n",
      "\"productType\": \"1\",\n",
      "\"brand\": \"청미정\",\n",
      "\"maker\": \"이엔에스코리아\",\n",
      "\"category1\": \"화장품/미용\",\n",
      "\"category2\": \"클렌징\",\n",
      "\"category3\": \"클렌징폼\",\n",
      "\"category4\": \"\"\n",
      "\n",
      "},\n",
      "{\n",
      "\"title\": \"설화수 순행 <b>클렌징</b>폼 200ml\",\n",
      "\"link\": \"https://search.shopping.naver.com/gate.nhn?id=5646619860\",\n",
      "\"image\": \"https://shopping-phinf.pstatic.net/main_5646619/5646619860.20190826104441.jpg\",\n",
      "\"lprice\": \"15480\",\n",
      "\"hprice\": \"2025550\",\n",
      "\"mallName\": \"네이버\",\n",
      "\"productId\": \"5646619860\",\n",
      "\"productType\": \"1\",\n",
      "\"brand\": \"설화수\",\n",
      "\"maker\": \"아모레퍼시픽\",\n",
      "\"category1\": \"화장품/미용\",\n",
      "\"category2\": \"클렌징\",\n",
      "\"category3\": \"클렌징폼\",\n",
      "\"category4\": \"\"\n",
      "\n",
      "},\n",
      "{\n",
      "\"title\": \"센카 퍼펙트 휩 <b>폼 클렌징</b> 120g\",\n",
      "\"link\": \"https://search.shopping.naver.com/gate.nhn?id=4114273022\",\n",
      "\"image\": \"https://shopping-phinf.pstatic.net/main_4114273/4114273022.20200109143007.jpg\",\n",
      "\"lprice\": \"4300\",\n",
      "\"hprice\": \"64950\",\n",
      "\"mallName\": \"네이버\",\n",
      "\"productId\": \"4114273022\",\n",
      "\"productType\": \"1\",\n",
      "\"brand\": \"센카\",\n",
      "\"maker\": \"시세이도\",\n",
      "\"category1\": \"화장품/미용\",\n",
      "\"category2\": \"클렌징\",\n",
      "\"category3\": \"클렌징폼\",\n",
      "\"category4\": \"\"\n",
      "\n",
      "},\n",
      "{\n",
      "\"title\": \"비플레인 녹두 약산성 <b>클렌징</b>폼 80ml(신형)\",\n",
      "\"link\": \"https://search.shopping.naver.com/gate.nhn?id=24364771522\",\n",
      "\"image\": \"https://shopping-phinf.pstatic.net/main_2436477/24364771522.20201006095603.jpg\",\n",
      "\"lprice\": \"8910\",\n",
      "\"hprice\": \"25800\",\n",
      "\"mallName\": \"네이버\",\n",
      "\"productId\": \"24364771522\",\n",
      "\"productType\": \"1\",\n",
      "\"brand\": \"비플레인\",\n",
      "\"maker\": \"한국콜마\",\n",
      "\"category1\": \"화장품/미용\",\n",
      "\"category2\": \"클렌징\",\n",
      "\"category3\": \"클렌징폼\",\n",
      "\"category4\": \"\"\n",
      "\n",
      "},\n",
      "{\n",
      "\"title\": \"제로이드 포밍 클렌저 240ml\",\n",
      "\"link\": \"https://search.shopping.naver.com/gate.nhn?id=10153306855\",\n",
      "\"image\": \"https://shopping-phinf.pstatic.net/main_1015330/10153306855.20200807104743.jpg\",\n",
      "\"lprice\": \"21900\",\n",
      "\"hprice\": \"42000\",\n",
      "\"mallName\": \"네이버\",\n",
      "\"productId\": \"10153306855\",\n",
      "\"productType\": \"1\",\n",
      "\"brand\": \"제로이드\",\n",
      "\"maker\": \"네오팜\",\n",
      "\"category1\": \"화장품/미용\",\n",
      "\"category2\": \"클렌징\",\n",
      "\"category3\": \"클렌징폼\",\n",
      "\"category4\": \"\"\n",
      "\n",
      "}\n",
      "]\n",
      "}\n",
      "\n"
     ]
    }
   ],
   "source": [
    "result = shopping_r.content.decode(\"utf-8\")\n",
    "dict_result = json.loads(result)\n",
    "print(result)"
   ]
  },
  {
   "cell_type": "code",
   "execution_count": 137,
   "metadata": {},
   "outputs": [
    {
     "name": "stdout",
     "output_type": "stream",
     "text": [
      "5\n"
     ]
    }
   ],
   "source": [
    "print(len(dict_result))"
   ]
  },
  {
   "cell_type": "code",
   "execution_count": 139,
   "metadata": {},
   "outputs": [
    {
     "name": "stdout",
     "output_type": "stream",
     "text": [
      "lastBuildDate Fri, 12 Feb 2021 21:47:55 +0900\n",
      "----------\n",
      "total 470198\n",
      "----------\n",
      "start 1\n",
      "----------\n",
      "display 10\n",
      "----------\n",
      "items [{'title': '닥터지 약산성 레드 블레미쉬 클리어 수딩 <b>폼</b> 150ml', 'link': 'https://search.shopping.naver.com/gate.nhn?id=22267938560', 'image': 'https://shopping-phinf.pstatic.net/main_2226793/22267938560.20200625091710.jpg', 'lprice': '6870', 'hprice': '31000', 'mallName': '네이버', 'productId': '22267938560', 'productType': '1', 'brand': '닥터지', 'maker': '코스맥스', 'category1': '화장품/미용', 'category2': '클렌징', 'category3': '클렌징폼', 'category4': ''}, {'title': '반코르 아크네 바하 <b>폼</b> 클렌저 120ml', 'link': 'https://search.shopping.naver.com/gate.nhn?id=24522909522', 'image': 'https://shopping-phinf.pstatic.net/main_2452290/24522909522.20201020101722.jpg', 'lprice': '13000', 'hprice': '28900', 'mallName': '네이버', 'productId': '24522909522', 'productType': '1', 'brand': '반코르', 'maker': '네이처텍', 'category1': '화장품/미용', 'category2': '클렌징', 'category3': '클렌징폼', 'category4': ''}, {'title': '안나플러스 천연 약산성 4GF 딥 <b>폼 클렌징</b> 150ml', 'link': 'https://search.shopping.naver.com/gate.nhn?id=14837901101', 'image': 'https://shopping-phinf.pstatic.net/main_1483790/14837901101.20201210200719.jpg', 'lprice': '14300', 'hprice': '59700', 'mallName': '네이버', 'productId': '14837901101', 'productType': '1', 'brand': '안나플러스', 'maker': '', 'category1': '화장품/미용', 'category2': '클렌징', 'category3': '클렌징폼', 'category4': ''}, {'title': '라세아 딥 <b>클렌징</b> 비타 약산성 <b>폼클렌징</b> 150ml', 'link': 'https://search.shopping.naver.com/gate.nhn?id=12793941357', 'image': 'https://shopping-phinf.pstatic.net/main_1279394/12793941357.20190227154911.jpg', 'lprice': '3500', 'hprice': '12000', 'mallName': '네이버', 'productId': '12793941357', 'productType': '1', 'brand': '라세아', 'maker': '', 'category1': '화장품/미용', 'category2': '클렌징', 'category3': '클렌징폼', 'category4': ''}, {'title': '콰티 뮬 <b>클렌징</b>폼 150g', 'link': 'https://search.shopping.naver.com/gate.nhn?id=25621549522', 'image': 'https://shopping-phinf.pstatic.net/main_2562154/25621549522.20210115173628.jpg', 'lprice': '18000', 'hprice': '130000', 'mallName': '네이버', 'productId': '25621549522', 'productType': '1', 'brand': '', 'maker': '', 'category1': '화장품/미용', 'category2': '클렌징', 'category3': '클렌징폼', 'category4': ''}, {'title': '청미정 알로에 발효 <b>클렌징</b> <b>폼</b> 200ml', 'link': 'https://search.shopping.naver.com/gate.nhn?id=12795135433', 'image': 'https://shopping-phinf.pstatic.net/main_1279513/12795135433.20171123170845.jpg', 'lprice': '23000', 'hprice': '23000', 'mallName': '네이버', 'productId': '12795135433', 'productType': '1', 'brand': '청미정', 'maker': '이엔에스코리아', 'category1': '화장품/미용', 'category2': '클렌징', 'category3': '클렌징폼', 'category4': ''}, {'title': '설화수 순행 <b>클렌징</b>폼 200ml', 'link': 'https://search.shopping.naver.com/gate.nhn?id=5646619860', 'image': 'https://shopping-phinf.pstatic.net/main_5646619/5646619860.20190826104441.jpg', 'lprice': '15480', 'hprice': '2025550', 'mallName': '네이버', 'productId': '5646619860', 'productType': '1', 'brand': '설화수', 'maker': '아모레퍼시픽', 'category1': '화장품/미용', 'category2': '클렌징', 'category3': '클렌징폼', 'category4': ''}, {'title': '센카 퍼펙트 휩 <b>폼 클렌징</b> 120g', 'link': 'https://search.shopping.naver.com/gate.nhn?id=4114273022', 'image': 'https://shopping-phinf.pstatic.net/main_4114273/4114273022.20200109143007.jpg', 'lprice': '4300', 'hprice': '64950', 'mallName': '네이버', 'productId': '4114273022', 'productType': '1', 'brand': '센카', 'maker': '시세이도', 'category1': '화장품/미용', 'category2': '클렌징', 'category3': '클렌징폼', 'category4': ''}, {'title': '비플레인 녹두 약산성 <b>클렌징</b>폼 80ml(신형)', 'link': 'https://search.shopping.naver.com/gate.nhn?id=24364771522', 'image': 'https://shopping-phinf.pstatic.net/main_2436477/24364771522.20201006095603.jpg', 'lprice': '8910', 'hprice': '25800', 'mallName': '네이버', 'productId': '24364771522', 'productType': '1', 'brand': '비플레인', 'maker': '한국콜마', 'category1': '화장품/미용', 'category2': '클렌징', 'category3': '클렌징폼', 'category4': ''}, {'title': '제로이드 포밍 클렌저 240ml', 'link': 'https://search.shopping.naver.com/gate.nhn?id=10153306855', 'image': 'https://shopping-phinf.pstatic.net/main_1015330/10153306855.20200807104743.jpg', 'lprice': '21900', 'hprice': '42000', 'mallName': '네이버', 'productId': '10153306855', 'productType': '1', 'brand': '제로이드', 'maker': '네오팜', 'category1': '화장품/미용', 'category2': '클렌징', 'category3': '클렌징폼', 'category4': ''}]\n",
      "----------\n"
     ]
    }
   ],
   "source": [
    "dict_list = []\n",
    "for key, value in dict_result.items():\n",
    "    print(key, value)\n",
    "    print(\"----------\")"
   ]
  },
  {
   "cell_type": "code",
   "execution_count": 132,
   "metadata": {},
   "outputs": [
    {
     "name": "stdout",
     "output_type": "stream",
     "text": [
      "[{'lastBuildDate': 'Fri, 12 Feb 2021 21:47:55 +0900'}, {'total': 470198}, {'start': 1}, {'display': 10}, {'items': [{'title': '닥터지 약산성 레드 블레미쉬 클리어 수딩 <b>폼</b> 150ml', 'link': 'https://search.shopping.naver.com/gate.nhn?id=22267938560', 'image': 'https://shopping-phinf.pstatic.net/main_2226793/22267938560.20200625091710.jpg', 'lprice': '6870', 'hprice': '31000', 'mallName': '네이버', 'productId': '22267938560', 'productType': '1', 'brand': '닥터지', 'maker': '코스맥스', 'category1': '화장품/미용', 'category2': '클렌징', 'category3': '클렌징폼', 'category4': ''}, {'title': '반코르 아크네 바하 <b>폼</b> 클렌저 120ml', 'link': 'https://search.shopping.naver.com/gate.nhn?id=24522909522', 'image': 'https://shopping-phinf.pstatic.net/main_2452290/24522909522.20201020101722.jpg', 'lprice': '13000', 'hprice': '28900', 'mallName': '네이버', 'productId': '24522909522', 'productType': '1', 'brand': '반코르', 'maker': '네이처텍', 'category1': '화장품/미용', 'category2': '클렌징', 'category3': '클렌징폼', 'category4': ''}, {'title': '안나플러스 천연 약산성 4GF 딥 <b>폼 클렌징</b> 150ml', 'link': 'https://search.shopping.naver.com/gate.nhn?id=14837901101', 'image': 'https://shopping-phinf.pstatic.net/main_1483790/14837901101.20201210200719.jpg', 'lprice': '14300', 'hprice': '59700', 'mallName': '네이버', 'productId': '14837901101', 'productType': '1', 'brand': '안나플러스', 'maker': '', 'category1': '화장품/미용', 'category2': '클렌징', 'category3': '클렌징폼', 'category4': ''}, {'title': '라세아 딥 <b>클렌징</b> 비타 약산성 <b>폼클렌징</b> 150ml', 'link': 'https://search.shopping.naver.com/gate.nhn?id=12793941357', 'image': 'https://shopping-phinf.pstatic.net/main_1279394/12793941357.20190227154911.jpg', 'lprice': '3500', 'hprice': '12000', 'mallName': '네이버', 'productId': '12793941357', 'productType': '1', 'brand': '라세아', 'maker': '', 'category1': '화장품/미용', 'category2': '클렌징', 'category3': '클렌징폼', 'category4': ''}, {'title': '콰티 뮬 <b>클렌징</b>폼 150g', 'link': 'https://search.shopping.naver.com/gate.nhn?id=25621549522', 'image': 'https://shopping-phinf.pstatic.net/main_2562154/25621549522.20210115173628.jpg', 'lprice': '18000', 'hprice': '130000', 'mallName': '네이버', 'productId': '25621549522', 'productType': '1', 'brand': '', 'maker': '', 'category1': '화장품/미용', 'category2': '클렌징', 'category3': '클렌징폼', 'category4': ''}, {'title': '청미정 알로에 발효 <b>클렌징</b> <b>폼</b> 200ml', 'link': 'https://search.shopping.naver.com/gate.nhn?id=12795135433', 'image': 'https://shopping-phinf.pstatic.net/main_1279513/12795135433.20171123170845.jpg', 'lprice': '23000', 'hprice': '23000', 'mallName': '네이버', 'productId': '12795135433', 'productType': '1', 'brand': '청미정', 'maker': '이엔에스코리아', 'category1': '화장품/미용', 'category2': '클렌징', 'category3': '클렌징폼', 'category4': ''}, {'title': '설화수 순행 <b>클렌징</b>폼 200ml', 'link': 'https://search.shopping.naver.com/gate.nhn?id=5646619860', 'image': 'https://shopping-phinf.pstatic.net/main_5646619/5646619860.20190826104441.jpg', 'lprice': '15480', 'hprice': '2025550', 'mallName': '네이버', 'productId': '5646619860', 'productType': '1', 'brand': '설화수', 'maker': '아모레퍼시픽', 'category1': '화장품/미용', 'category2': '클렌징', 'category3': '클렌징폼', 'category4': ''}, {'title': '센카 퍼펙트 휩 <b>폼 클렌징</b> 120g', 'link': 'https://search.shopping.naver.com/gate.nhn?id=4114273022', 'image': 'https://shopping-phinf.pstatic.net/main_4114273/4114273022.20200109143007.jpg', 'lprice': '4300', 'hprice': '64950', 'mallName': '네이버', 'productId': '4114273022', 'productType': '1', 'brand': '센카', 'maker': '시세이도', 'category1': '화장품/미용', 'category2': '클렌징', 'category3': '클렌징폼', 'category4': ''}, {'title': '비플레인 녹두 약산성 <b>클렌징</b>폼 80ml(신형)', 'link': 'https://search.shopping.naver.com/gate.nhn?id=24364771522', 'image': 'https://shopping-phinf.pstatic.net/main_2436477/24364771522.20201006095603.jpg', 'lprice': '8910', 'hprice': '25800', 'mallName': '네이버', 'productId': '24364771522', 'productType': '1', 'brand': '비플레인', 'maker': '한국콜마', 'category1': '화장품/미용', 'category2': '클렌징', 'category3': '클렌징폼', 'category4': ''}, {'title': '제로이드 포밍 클렌저 240ml', 'link': 'https://search.shopping.naver.com/gate.nhn?id=10153306855', 'image': 'https://shopping-phinf.pstatic.net/main_1015330/10153306855.20200807104743.jpg', 'lprice': '21900', 'hprice': '42000', 'mallName': '네이버', 'productId': '10153306855', 'productType': '1', 'brand': '제로이드', 'maker': '네오팜', 'category1': '화장품/미용', 'category2': '클렌징', 'category3': '클렌징폼', 'category4': ''}]}]\n"
     ]
    }
   ],
   "source": [
    "print(dict_list)"
   ]
  },
  {
   "cell_type": "code",
   "execution_count": null,
   "metadata": {},
   "outputs": [],
   "source": []
  }
 ],
 "metadata": {
  "kernelspec": {
   "display_name": "Python 3",
   "language": "python",
   "name": "python3"
  },
  "language_info": {
   "codemirror_mode": {
    "name": "ipython",
    "version": 3
   },
   "file_extension": ".py",
   "mimetype": "text/x-python",
   "name": "python",
   "nbconvert_exporter": "python",
   "pygments_lexer": "ipython3",
   "version": "3.8.3"
  }
 },
 "nbformat": 4,
 "nbformat_minor": 4
}
